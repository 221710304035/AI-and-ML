{
  "nbformat": 4,
  "nbformat_minor": 0,
  "metadata": {
    "colab": {
      "name": "ASSIGNMENT(03-06-2020).ipynb",
      "provenance": []
    },
    "kernelspec": {
      "name": "python3",
      "display_name": "Python 3"
    }
  },
  "cells": [
    {
      "cell_type": "markdown",
      "metadata": {
        "id": "YHPI5PO6SOa6",
        "colab_type": "text"
      },
      "source": [
        "# CSE B4 - 221710304035 - MARRU RAHUL"
      ]
    },
    {
      "cell_type": "code",
      "metadata": {
        "id": "Y4XoJX6ySQ2c",
        "colab_type": "code",
        "colab": {}
      },
      "source": [
        "# Print the contents of a file line by line putting a line number for each line\n",
        "f = open(\"fi.txt\", \"a\")\n",
        "f.write(\"my name is rahul\\n studying in cseb4\\n from khammam\\n cse\")\n",
        "f.close()"
      ],
      "execution_count": 0,
      "outputs": []
    },
    {
      "cell_type": "code",
      "metadata": {
        "id": "2FPQgN0XSXE8",
        "colab_type": "code",
        "colab": {
          "base_uri": "https://localhost:8080/",
          "height": 141
        },
        "outputId": "c43d371e-b7ed-46ca-cc03-16fe6baeaf62"
      },
      "source": [
        "with open(\"fi.txt\",\"r\") as f:\n",
        "    i=1\n",
        "    for line in f:\n",
        "        print(i,\". \",line)\n",
        "        i+=1"
      ],
      "execution_count": 2,
      "outputs": [
        {
          "output_type": "stream",
          "text": [
            "1 .  my name is rahul\n",
            "\n",
            "2 .   studying in cseb4\n",
            "\n",
            "3 .   from khammam\n",
            "\n",
            "4 .   cse\n"
          ],
          "name": "stdout"
        }
      ]
    },
    {
      "cell_type": "code",
      "metadata": {
        "id": "CdULAwHDSd5T",
        "colab_type": "code",
        "colab": {}
      },
      "source": [
        "with open(\"fi.txt\",\"r\") as f:\n",
        "    with open(\"fi1.txt\",\"w\") as f1:     \n",
        "        for line in f:\n",
        "            f1.write(line)"
      ],
      "execution_count": 0,
      "outputs": []
    },
    {
      "cell_type": "code",
      "metadata": {
        "id": "Z-zhehrcSv-S",
        "colab_type": "code",
        "colab": {
          "base_uri": "https://localhost:8080/",
          "height": 141
        },
        "outputId": "59e7b78c-e424-4730-fee4-d681d45e74f5"
      },
      "source": [
        "#displaying contents in reverse order\n",
        "with open(\"fi1.txt\",\"r\") as f1:\n",
        "        for line in f1:                   \n",
        "            print(line[::-1])"
      ],
      "execution_count": 4,
      "outputs": [
        {
          "output_type": "stream",
          "text": [
            "\n",
            "luhar si eman ym\n",
            "\n",
            "4besc ni gniyduts \n",
            "\n",
            "mammahk morf \n",
            "esc \n"
          ],
          "name": "stdout"
        }
      ]
    },
    {
      "cell_type": "code",
      "metadata": {
        "id": "jAfNArvXS8oo",
        "colab_type": "code",
        "colab": {
          "base_uri": "https://localhost:8080/",
          "height": 52
        },
        "outputId": "f4e4b7d9-577c-4bbf-d8ef-978175bb465e"
      },
      "source": [
        "# Function to find duplicates in lists\n",
        "def duplicate(l):\n",
        "    for i in l:\n",
        "        if(l.count(i)>1):\n",
        "            return True\n",
        "            break\n",
        "        else:\n",
        "            continue\n",
        "    return False\n",
        "def removed(f):\n",
        "    for i in l:\n",
        "        if i not in li:\n",
        "            li.append(i)\n",
        "    return li\n",
        "l = [1,2,3,2]\n",
        "li= []\n",
        "f = (duplicate(l))\n",
        "print(f)\n",
        "if(f == True):\n",
        "    print(removed(l))"
      ],
      "execution_count": 9,
      "outputs": [
        {
          "output_type": "stream",
          "text": [
            "True\n",
            "[1, 2, 3]\n"
          ],
          "name": "stdout"
        }
      ]
    },
    {
      "cell_type": "code",
      "metadata": {
        "id": "qVzkjP3uTSUk",
        "colab_type": "code",
        "colab": {
          "base_uri": "https://localhost:8080/",
          "height": 34
        },
        "outputId": "fcbf52c2-81ad-45d7-aabb-ff770f7affc4"
      },
      "source": [
        "# Function to find duplicates in lists\n",
        "def duplicate(l):\n",
        "    for i in l:\n",
        "        if(l.count(i)>1):\n",
        "            return True\n",
        "            break\n",
        "        else:\n",
        "            continue\n",
        "    return False\n",
        "def removed(f):\n",
        "    for i in l:\n",
        "        if i not in li:\n",
        "            li.append(i)\n",
        "    return li\n",
        "l = [1,2,3,4,5]\n",
        "li= []\n",
        "f = (duplicate(l))\n",
        "print(f)\n",
        "if(f == True):\n",
        "    print(removed(l))"
      ],
      "execution_count": 10,
      "outputs": [
        {
          "output_type": "stream",
          "text": [
            "False\n"
          ],
          "name": "stdout"
        }
      ]
    },
    {
      "cell_type": "markdown",
      "metadata": {
        "id": "vn1HfzyIUEto",
        "colab_type": "text"
      },
      "source": [
        "####  - \n",
        " - Develop a package for fractions. Develop a module that performs operations on fractions. It should have methods to create fractions, perform operations on two fractions, simplify a fraction, and print a fraction. You should use that package and illustrate those operations."
      ]
    },
    {
      "cell_type": "code",
      "metadata": {
        "id": "xPymz7vkT1Fy",
        "colab_type": "code",
        "colab": {
          "base_uri": "https://localhost:8080/",
          "height": 123
        },
        "outputId": "954b02c3-3d1a-46c0-89d2-f3053d4e170b"
      },
      "source": [
        "from fractions import Fraction\n",
        "a = Fraction(1, 2)\n",
        "print(float(a))\n",
        "b=Fraction(1, 2) + Fraction(3, 4)\n",
        "print(float(b))\n",
        "c=Fraction(1, 2) - Fraction(3, 4)\n",
        "print(float(c))\n",
        "d=Fraction(1, 2) * Fraction(3, 4)\n",
        "print(float(d))\n",
        "e=Fraction(1, 2) / Fraction(3, 4)\n",
        "print(float(e))\n",
        "f=Fraction(1, 2) % Fraction(3, 4)\n",
        "print(float(b))"
      ],
      "execution_count": 11,
      "outputs": [
        {
          "output_type": "stream",
          "text": [
            "0.5\n",
            "1.25\n",
            "-0.25\n",
            "0.375\n",
            "0.6666666666666666\n",
            "1.25\n"
          ],
          "name": "stdout"
        }
      ]
    },
    {
      "cell_type": "code",
      "metadata": {
        "id": "Ce4_8NAFVTFv",
        "colab_type": "code",
        "colab": {
          "base_uri": "https://localhost:8080/",
          "height": 34
        },
        "outputId": "d4b1c415-186b-427a-bb8d-00799a947db7"
      },
      "source": [
        "#A permutation of a list is another list with the same elements, but in a possibly different order. For example, [1,2,1]\n",
        "#is a permutation of [2,1,1], but not of [1,2,2]. Write a functionisPermutation (list1, list2): boolthat returns True if         \n",
        "#its arguments are permutations of each other.\n",
        "def ispermutation(l1,l2):\n",
        "    sum1 = sum(l1)\n",
        "    sum2 = sum(l2)\n",
        "    if sum1 == sum2:\n",
        "        return True\n",
        "    else:\n",
        "        return False\n",
        "l1 = [1,2,1]\n",
        "l2 = [1,1,2]\n",
        "print(ispermutation(l1,l2))"
      ],
      "execution_count": 12,
      "outputs": [
        {
          "output_type": "stream",
          "text": [
            "True\n"
          ],
          "name": "stdout"
        }
      ]
    },
    {
      "cell_type": "code",
      "metadata": {
        "id": "p8hPpin5WC3a",
        "colab_type": "code",
        "colab": {}
      },
      "source": [
        ""
      ],
      "execution_count": 0,
      "outputs": []
    }
  ]
}