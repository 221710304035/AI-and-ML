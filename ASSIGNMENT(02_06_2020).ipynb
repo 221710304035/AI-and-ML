{
  "nbformat": 4,
  "nbformat_minor": 0,
  "metadata": {
    "colab": {
      "name": "ASSIGNMENT(02-06-2020).ipynb",
      "provenance": []
    },
    "kernelspec": {
      "name": "python3",
      "display_name": "Python 3"
    }
  },
  "cells": [
    {
      "cell_type": "markdown",
      "metadata": {
        "id": "5qbSRHEVRjZa",
        "colab_type": "text"
      },
      "source": [
        "#CSE B4 - 221710304035 - MARRU RAHUL"
      ]
    },
    {
      "cell_type": "code",
      "metadata": {
        "id": "LV3NzEXwRkYP",
        "colab_type": "code",
        "colab": {
          "base_uri": "https://localhost:8080/",
          "height": 443
        },
        "outputId": "2f60d456-9b6d-4219-d3ef-e3099d66ca15"
      },
      "source": [
        "import random\n",
        "list1=['happy','mouse','grape','fruit','files','rahul','yashu','python','sides','mango']\n",
        "n=9\n",
        "x=5\n",
        "list3=['?','?','?','?','?']\n",
        "list2=list(random.choice(list1))\n",
        "str1=''\n",
        "for ele in list2: \n",
        "    str1 += ele \n",
        "while n!=0 and x!=0:\n",
        "    print(list3)\n",
        "    print(\"lifes left\",end=\":\")\n",
        "    for i in range(n):\n",
        "        print('♥',end=' ')\n",
        "    s=input(\"\\ngive a letter or the whole word\")\n",
        "    if len(s)>1:\n",
        "        if s==str1:\n",
        "            x=0\n",
        "        else:\n",
        "            print(\"you lose a life\")\n",
        "            n=n-1\n",
        "    else:\n",
        "        c=0\n",
        "        for i in range(len(list2)):\n",
        "            if list2[i]==s:\n",
        "                list3[i]=list2[i]\n",
        "                list2[i]=' '\n",
        "                x=x-1\n",
        "                c=1\n",
        "                break\n",
        "        if c==0:\n",
        "            print(\"you lose a life\")\n",
        "            n=n-1\n",
        "print(\"you won the secret  word %s\"%str1 if x==0 else \"lifes are over the word is %s\"%str1)\n"
      ],
      "execution_count": 1,
      "outputs": [
        {
          "output_type": "stream",
          "text": [
            "['?', '?', '?', '?', '?']\n",
            "lifes left:♥ ♥ ♥ ♥ ♥ ♥ ♥ ♥ ♥ \n",
            "give a letter or the whole wordi\n",
            "['?', 'i', '?', '?', '?']\n",
            "lifes left:♥ ♥ ♥ ♥ ♥ ♥ ♥ ♥ ♥ \n",
            "give a letter or the whole wordk\n",
            "you lose a life\n",
            "['?', 'i', '?', '?', '?']\n",
            "lifes left:♥ ♥ ♥ ♥ ♥ ♥ ♥ ♥ \n",
            "give a letter or the whole wordj\n",
            "you lose a life\n",
            "['?', 'i', '?', '?', '?']\n",
            "lifes left:♥ ♥ ♥ ♥ ♥ ♥ ♥ \n",
            "give a letter or the whole wordf\n",
            "['f', 'i', '?', '?', '?']\n",
            "lifes left:♥ ♥ ♥ ♥ ♥ ♥ ♥ \n",
            "give a letter or the whole wordl\n",
            "['f', 'i', 'l', '?', '?']\n",
            "lifes left:♥ ♥ ♥ ♥ ♥ ♥ ♥ \n",
            "give a letter or the whole worde\n",
            "['f', 'i', 'l', 'e', '?']\n",
            "lifes left:♥ ♥ ♥ ♥ ♥ ♥ ♥ \n",
            "give a letter or the whole words\n",
            "you won the secret  word files\n"
          ],
          "name": "stdout"
        }
      ]
    },
    {
      "cell_type": "code",
      "metadata": {
        "id": "OslBpWPjRybs",
        "colab_type": "code",
        "colab": {}
      },
      "source": [
        ""
      ],
      "execution_count": 0,
      "outputs": []
    }
  ]
}