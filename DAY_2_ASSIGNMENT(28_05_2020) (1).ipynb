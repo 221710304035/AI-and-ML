{
  "nbformat": 4,
  "nbformat_minor": 0,
  "metadata": {
    "colab": {
      "name": "DAY 2 ASSIGNMENT(28-05-2020).ipynb",
      "provenance": []
    },
    "kernelspec": {
      "name": "python3",
      "display_name": "Python 3"
    }
  },
  "cells": [
    {
      "cell_type": "code",
      "metadata": {
        "id": "stLcgfjJNIkm",
        "colab_type": "code",
        "colab": {
          "base_uri": "https://localhost:8080/",
          "height": 34
        },
        "outputId": "9d09cbed-7334-42ba-c3f5-1cd0a8ddc85d"
      },
      "source": [
        "#Read the input as two limits and Print the output as Palindrome count between the two limits\n",
        "def num_palindromes(start, end):\n",
        "    count = 0\n",
        "    for i in range(start, end + 1):\n",
        "        if str(i) == str(i)[::-1]:\n",
        "            count += 1\n",
        "    return count\n",
        "count = num_palindromes(1,100)\n",
        "print(count)"
      ],
      "execution_count": 1,
      "outputs": [
        {
          "output_type": "stream",
          "text": [
            "18\n"
          ],
          "name": "stdout"
        }
      ]
    },
    {
      "cell_type": "code",
      "metadata": {
        "id": "wjtO1iqQPdHO",
        "colab_type": "code",
        "colab": {
          "base_uri": "https://localhost:8080/",
          "height": 70
        },
        "outputId": "efcc3451-1ef7-4a59-91ad-c425bb6e2c6d"
      },
      "source": [
        "#Accept a number as an input and check whether the given number is palindrome or not\n",
        "\n",
        "n=int(input(\"enter number\"))\n",
        "s = 0\n",
        "while True:\n",
        "    k = str(n)\n",
        "    if k == k[::-1]:\n",
        "        print(k)\n",
        "        break\n",
        "    else:\n",
        "      m = int(k[::-1])\n",
        "      n += m\n",
        "      s += 1\n",
        "      print(k)"
      ],
      "execution_count": 3,
      "outputs": [
        {
          "output_type": "stream",
          "text": [
            "enter number127\n",
            "127\n",
            "848\n"
          ],
          "name": "stdout"
        }
      ]
    },
    {
      "cell_type": "code",
      "metadata": {
        "id": "p8_t3gAePqxS",
        "colab_type": "code",
        "colab": {
          "base_uri": "https://localhost:8080/",
          "height": 52
        },
        "outputId": "874cb239-0a62-404c-8c8a-927179a78619"
      },
      "source": [
        "\n",
        "#Accept input as a string and display sum of digits as the output \n",
        "n=input('')\n",
        "sum= 0\n",
        "for x in n:\n",
        "    if x.isdigit() == True:\n",
        "            z = int(x)\n",
        "            sum= sum + z\n",
        "print(sum)"
      ],
      "execution_count": 4,
      "outputs": [
        {
          "output_type": "stream",
          "text": [
            " Appli123cation456 \n",
            "21\n"
          ],
          "name": "stdout"
        }
      ]
    },
    {
      "cell_type": "code",
      "metadata": {
        "id": "FbD0vJehQpMh",
        "colab_type": "code",
        "colab": {
          "base_uri": "https://localhost:8080/",
          "height": 52
        },
        "outputId": "101a7b3e-2731-44a8-e000-0f1d5e2d0998"
      },
      "source": [
        "#Write a program to prompt for a score between 0.0 and 1.0. If the score is out of range, print an error. If the score is between 0.0 and 1.0, print a grade using the following table:\n",
        "\n",
        "score = float(input(\" \"))\n",
        "if score>1.0 or score<0.0 :\n",
        "    print(\"error\")\n",
        "elif score>=0.9 :\n",
        "    print ('A')\n",
        "elif score>=0.8 :\n",
        "    print( 'B')\n",
        "elif score>=0.7 :\n",
        "    print( 'C')\n",
        "elif score>=0.6 :\n",
        "    print( 'D')\n",
        "else :\n",
        "    print( 'F')"
      ],
      "execution_count": 5,
      "outputs": [
        {
          "output_type": "stream",
          "text": [
            " 0.85\n",
            "B\n"
          ],
          "name": "stdout"
        }
      ]
    },
    {
      "cell_type": "code",
      "metadata": {
        "id": "LdF3pnxHQqR1",
        "colab_type": "code",
        "colab": {
          "base_uri": "https://localhost:8080/",
          "height": 123
        },
        "outputId": "60701f76-3671-4adc-89f7-1653d672e667"
      },
      "source": [
        "#Write a Python program which iterates the integers from 1 to 50. For multiples of three print \"Fizz\" instead of the number and for the multiples of five print \"Buzz\". For numbers which are multiples of both three and five print \"FizzBuzz\".\n",
        "\n",
        "for fizzbuzz in range(6):\n",
        "    if fizzbuzz % 3 == 0 and fizzbuzz % 5 == 0:\n",
        "        print(\"fizzbuzz\")\n",
        "        continue\n",
        "    elif fizzbuzz % 3 == 0:\n",
        "        print(\"fizz\")\n",
        "        continue\n",
        "    elif fizzbuzz % 5 == 0:\n",
        "        print(\"buzz\")\n",
        "        continue\n",
        "    print(fizzbuzz)\n",
        "    "
      ],
      "execution_count": 6,
      "outputs": [
        {
          "output_type": "stream",
          "text": [
            "fizzbuzz\n",
            "1\n",
            "2\n",
            "fizz\n",
            "4\n",
            "buzz\n"
          ],
          "name": "stdout"
        }
      ]
    },
    {
      "cell_type": "code",
      "metadata": {
        "id": "v0Kv6qudQ6-1",
        "colab_type": "code",
        "colab": {
          "base_uri": "https://localhost:8080/",
          "height": 87
        },
        "outputId": "3584e3e6-301f-488d-fd68-7e316a733bd0"
      },
      "source": [
        "#Write a Python program to find the median of three values.\n",
        "a = int(input(\"num1\"))\n",
        "b = int(input(\"num2\"))\n",
        "c = int(input(\"num3\"))\n",
        "\n",
        "if b < a and a < c:\n",
        "    print(a)\n",
        "elif c < a and a < b:\n",
        "    print(a)\n",
        "    \n",
        "elif c < b and b < a:\n",
        "    print(b)\n",
        "elif a < b and b < c:\n",
        "    print(b)\n",
        "    \n",
        "elif b < c and c < a:\n",
        "    print(c)    \n",
        "elif a < c and c < b:\n",
        "    print(c)"
      ],
      "execution_count": 8,
      "outputs": [
        {
          "output_type": "stream",
          "text": [
            "num126\n",
            "num215\n",
            "num329\n",
            "26\n"
          ],
          "name": "stdout"
        }
      ]
    },
    {
      "cell_type": "code",
      "metadata": {
        "id": "SvHnEmz3Q-e0",
        "colab_type": "code",
        "colab": {
          "base_uri": "https://localhost:8080/",
          "height": 87
        },
        "outputId": "80e7dc9f-9069-4f3f-8e7d-60c0b705c6cb"
      },
      "source": [
        "#Accept a string the user and count no.of vowels,consonants and special characters\n",
        "str = input(\"Enter the string :\")\n",
        "vowels = 0\n",
        "consonants = 0\n",
        "symbols = 0\n",
        "str = str.lower()\n",
        "for i in range(0, len(str)):\n",
        "    if(str[i] == 'a'or str[i] == 'e' or str[i] == 'i'\n",
        "       or str[i] == 'o' or str[i] == 'u'):\n",
        "        vowels = vowels + 1\n",
        "    elif ((str[i] >= 'a'and str[i] <= 'z')):\n",
        "            consonants = consonants + 1\n",
        "    else:\n",
        "         symbols = symbols + 1\n",
        "print(\"vowels\" , vowels)\n",
        "print(\"Consonants:\", consonants)\n",
        "print(\"Symbols :\", symbols)"
      ],
      "execution_count": 9,
      "outputs": [
        {
          "output_type": "stream",
          "text": [
            "Enter the string :aeoloh$\n",
            "vowels 4\n",
            "Consonants: 2\n",
            "Symbols : 1\n"
          ],
          "name": "stdout"
        }
      ]
    },
    {
      "cell_type": "code",
      "metadata": {
        "id": "V3xpa2WUReHm",
        "colab_type": "code",
        "colab": {
          "base_uri": "https://localhost:8080/",
          "height": 34
        },
        "outputId": "ea310d94-b63d-403e-a4b1-fa8f14441176"
      },
      "source": [
        "#input:orange  →   output : puboif\n",
        "value = 'orange'\n",
        "var=(chr(ord(value[0])+1))\n",
        "var1=(chr(ord(value[1])+3))\n",
        "var2=(chr(ord(value[2])+1))\n",
        "var3=(chr(ord(value[3])+1))\n",
        "var4=(chr(ord(value[4])+2))\n",
        "var5=(chr(ord(value[5])+1))\n",
        "value=var+var1+var2+var3+var4+var5\n",
        "print(value)"
      ],
      "execution_count": 10,
      "outputs": [
        {
          "output_type": "stream",
          "text": [
            "puboif\n"
          ],
          "name": "stdout"
        }
      ]
    },
    {
      "cell_type": "code",
      "metadata": {
        "id": "s03hUzs3R6sp",
        "colab_type": "code",
        "colab": {
          "base_uri": "https://localhost:8080/",
          "height": 52
        },
        "outputId": "250242c4-463e-4b15-f6e5-183a712493d8"
      },
      "source": [
        "#count the no.of pairs of a in the given string(Infosys InfyTQ)\n",
        "str=input(\"enter string:  \")\n",
        "count=0\n",
        "i=0\n",
        "k=len(str)\n",
        "while i<k-1:\n",
        "    if(str[i]=='a'):\n",
        "        if(str[i+1]=='a'):\n",
        "            count+=1\n",
        "            i+=1\n",
        "    i+=1\n",
        "print(count)"
      ],
      "execution_count": 11,
      "outputs": [
        {
          "output_type": "stream",
          "text": [
            "enter string:  abbaaccbbaaa\n",
            "2\n"
          ],
          "name": "stdout"
        }
      ]
    },
    {
      "cell_type": "code",
      "metadata": {
        "id": "OJOoWM0gR_eJ",
        "colab_type": "code",
        "colab": {
          "base_uri": "https://localhost:8080/",
          "height": 52
        },
        "outputId": "a5d3c4ee-c81a-4fb7-d6bb-de313bc1acf8"
      },
      "source": [
        "#Question 3:\n",
        "s=input(\"string : \")\n",
        "count=0\n",
        "i=0\n",
        "while i<(len(s)-1):\n",
        "    if(s[i]=='('):\n",
        "        count+=1\n",
        "    i+=1\n",
        "print(count)\n",
        "\n"
      ],
      "execution_count": 12,
      "outputs": [
        {
          "output_type": "stream",
          "text": [
            "string : ((((()()()))))()\n",
            "8\n"
          ],
          "name": "stdout"
        }
      ]
    },
    {
      "cell_type": "code",
      "metadata": {
        "id": "hoWpwfAHSNMB",
        "colab_type": "code",
        "colab": {}
      },
      "source": [
        ""
      ],
      "execution_count": 0,
      "outputs": []
    }
  ]
}