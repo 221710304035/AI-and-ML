{
  "nbformat": 4,
  "nbformat_minor": 0,
  "metadata": {
    "colab": {
      "name": "assignment(1-06-2020).ipynb",
      "provenance": []
    },
    "kernelspec": {
      "name": "python3",
      "display_name": "Python 3"
    }
  },
  "cells": [
    {
      "cell_type": "markdown",
      "metadata": {
        "id": "dRG1EEQWwSuP",
        "colab_type": "text"
      },
      "source": [
        "#CSE B4 - 221710304035 - MARRU RAHUL"
      ]
    },
    {
      "cell_type": "code",
      "metadata": {
        "id": "azV4qRi_wUOC",
        "colab_type": "code",
        "colab": {
          "base_uri": "https://localhost:8080/",
          "height": 158
        },
        "outputId": "c84a9b53-9fc6-45de-ec32-3f24b2ab1b6c"
      },
      "source": [
        "import random\n",
        "k=\"yes\"\n",
        "while(k==\"yes\"):\n",
        "    verb=[\"happy\",\"sad\",\"pull\",\"push\",\"open\",\"close\",\"hit\",\"put\",\"run\",\"walk\"]\n",
        "    noun=[\"tiger\",\"lion\",\"cat\",\"dog\",\"monkey\",\"frog\",\"snake\",\"rat\",\"ant\",\"fish\"]\n",
        "    schar=[\"!\",\"@\",\"#\",\"$\",\"%\",\"^\",\"&\",\"*\"]\n",
        "    num=[1,2,3,4,5,6,7,8,9,10]\n",
        "    r1=random.choice(verb)\n",
        "    r2=random.choice(noun)\n",
        "    r3=random.choice(schar)\n",
        "    r4=random.choice(num)\n",
        "    print(r1,end=\"\")\n",
        "    print(r2,end=\"\")\n",
        "    print(r3,end=\"\")\n",
        "    print(r4)\n",
        "    k=input(\"enter yes or no\")"
      ],
      "execution_count": 4,
      "outputs": [
        {
          "output_type": "stream",
          "text": [
            "putfrog$1\n",
            "enter yes or noyes\n",
            "pushfrog^8\n",
            "enter yes or noyes\n",
            "pullfrog*9\n",
            "enter yes or noyes\n",
            "runrat$6\n",
            "enter yes or nono\n"
          ],
          "name": "stdout"
        }
      ]
    },
    {
      "cell_type": "code",
      "metadata": {
        "id": "1KnMP840tuav",
        "colab_type": "code",
        "colab": {}
      },
      "source": [
        ""
      ],
      "execution_count": 0,
      "outputs": []
    }
  ]
}